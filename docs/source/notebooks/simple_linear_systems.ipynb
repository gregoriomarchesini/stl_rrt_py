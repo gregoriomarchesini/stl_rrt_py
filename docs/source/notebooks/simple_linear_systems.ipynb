{
 "cells": [
  {
   "cell_type": "markdown",
   "metadata": {},
   "source": [
    "# Linear Systems 🧭\n",
    "\n",
    "## The start of it all\n",
    "This toolbox was deveoped to synthesize trajectories satisfying a given task expressed as a [Signal Temporal Logic](stl.ipynb) formula using sampling-based methods. We will talk more about STL formulas later, but for it will be enought to have the intuition that STL formulas encode spatio-temporal behaviours that we would like our system to follow. We would like for example to find trajectories that revisit a certain region of interest (e.g. a charging station) every 10 minute. Otherwise, we might want to visit a certain location \"eventually between 10 and 20 minutes\" to deliver a package, for example. These, and many other tasks, can be encoded as formulas in a formal language that is, in this case, STL!\n",
    "\n",
    "\n",
    "Before delving into more details with STL we can to recap a few details about the linear systems we consider. Namely, recall that  continuous-time linear systems are described as\n",
    "\n",
    "$$\n",
    "\\dot{x} = Ax + Bu.\n",
    "$$\n",
    "\n",
    "with state $x \\in \\mathbb{R}^{n}$ and input $u \\in \\mathbb{R}^{m}$. We can easily create a continuous time dynamical system by the following piece of code."
   ]
  },
  {
   "cell_type": "code",
   "execution_count": 7,
   "metadata": {},
   "outputs": [],
   "source": [
    "import numpy as np\n",
    "from stl_tool.stl  import ContinuousLinearSystem\n",
    "\n",
    "A   = np.array([[1.,2.],\n",
    "                [4.,5.]])\n",
    "B   =  np.array([[1.,0.],\n",
    "                 [0.,1.]])\n",
    "dt  = 1.0 \n",
    "\n",
    "system  = ContinuousLinearSystem(A, B, dt = dt)"
   ]
  },
  {
   "cell_type": "markdown",
   "metadata": {},
   "source": [
    "Here `A` and `B` are the system matrices and `dt` is the sampling times that will be used to sample your system inside the RRT planner as we will see later. While the systems class can not do much for now, it ca tell you if the system is controllable by checking the rank condition of the controllability matrix \n",
    "\n",
    "$$\n",
    "\\mathcal{C} = \\begin{bmatrix}\n",
    "B & AB & A^2B & \\cdots & A^{n-1}B\n",
    "\\end{bmatrix} \\in \\mathbb{R}^{n \\times nm}.\n",
    "$$\n",
    "\n",
    "You can check controllability by calling the bolean methods `is_controllable` as\n",
    "\n"
   ]
  },
  {
   "cell_type": "code",
   "execution_count": 8,
   "metadata": {},
   "outputs": [
    {
     "data": {
      "text/plain": [
       "np.True_"
      ]
     },
     "execution_count": 8,
     "metadata": {},
     "output_type": "execute_result"
    }
   ],
   "source": [
    "system.is_controllable() # -> True or False "
   ]
  },
  {
   "cell_type": "markdown",
   "metadata": {},
   "source": [
    "The `ContinuousLinearSystem` system class is still under development, but we will soon add more functionalities. For the purposes of planning, tho know the dynamics and the controllability properties of the systems is enough.\n",
    "We consider the state $x\\in \\mathbb{R}^{n} \\subseteq \\mathbb{X}$ and the control input $u \\in \\mathbb{R}^{m} \\subseteq \\mathbb{U}$ where the sets $\\mathbb{X}$ and $\\mathbb{U}$ are bounded convex polytopes of the form\n",
    "\n",
    "$$\n",
    "\\begin{aligned}\n",
    "    \\mathbb{X} := \\{ x\\in \\mathbb{R}^{n} \\mid D_x x\\leq \\vec{c}_x \\},\\\\\n",
    "    \\mathbb{U} := \\{ u\\in \\mathbb{R}^{m} \\mid D_u u\\leq \\vec{c}_u \\},\n",
    "\\end{aligned}\n",
    "$$\n",
    "\n",
    "where $D_{x}\\in \\mathbb{R}^{p_x\\times n}$, $D_{u}\\in \\mathbb{R}^{p_u\\times m}$, $\\vec{c}_u \\in \\mathbb{R}^{p_{u}}$ and $\\vec{c}_{x} \\in \\mathbb{R}^{p_{x}}$, with $p_x\\geq n$ and $p_u\\geq m$. It is almost always the case that you state and inputs are indeed easily bounded by a set that can at least be approximated by a polytope. A very typical case is given by box constraints. Namely, the constraint \n",
    "$$\n",
    "u_{min} \\leq u \\leq u_{max}\n",
    "$$\n",
    "for $u\\in \\mathbb{R}^2$ can be easily encoded as a polytope as\n",
    "$$ \n",
    "\\left[\\begin{array}{cc}\n",
    "1 & 0 \\\\\n",
    "0 & 1 \\\\\n",
    "-1 & 0 \\\\\n",
    "0 & -1 \\\\\n",
    "\\end{array}\\right] u \\leq\n",
    "\\left[\\begin{array}{c}\n",
    "u_{max}  \\\\\n",
    "u_{max} \\\\\n",
    "-u_{min}\\\\\n",
    "-u_{min} \\\\\n",
    "\\end{array}\\right]\n",
    "$$\n",
    "of course it would be quite boring to have to do this all the times, so there is a simple calss that wraps this transformation for you. "
   ]
  },
  {
   "cell_type": "code",
   "execution_count": 9,
   "metadata": {},
   "outputs": [],
   "source": [
    "from stl_tool.polyhedron import Box2d\n",
    "max_input     = 5.\n",
    "input_bounds  = Box2d(x = 0.,y = 0.,size = max_input*2) "
   ]
  },
  {
   "cell_type": "markdown",
   "metadata": {},
   "source": [
    "What you did is to create a box bound for a two dimensional system, where the maximum and minimum values are given by `max_input`. We can print the polytope simply as"
   ]
  },
  {
   "cell_type": "code",
   "execution_count": 10,
   "metadata": {},
   "outputs": [
    {
     "name": "stdout",
     "output_type": "stream",
     "text": [
      "Hyperplane representation of polytope\n",
      "  [[ 1.00000   0.00000] |    [5.00000]\n",
      "   [ 0.00000   1.00000] |    [5.00000]\n",
      "   [-1.00000  -0.00000] |    [5.00000]\n",
      "   [-0.00000  -1.00000] x <= [5.00000]\n",
      "\n"
     ]
    }
   ],
   "source": [
    "print(input_bounds)"
   ]
  },
  {
   "cell_type": "markdown",
   "metadata": {},
   "source": [
    "If you never heard about polyhedrons, you can recall that a polyhedron is a set of the general form $\\{x \\mid Ax \\leq b\\}$. A polytope is a just bounded polyhedron. We can work with polyehrons and polytopes using the class `Polyhedron` as explained in [on the Polyhedron page](polytope.ipynb). you can plot your polytope constraint very easily \n"
   ]
  },
  {
   "cell_type": "code",
   "execution_count": 11,
   "metadata": {},
   "outputs": [
    {
     "data": {
      "text/plain": [
       "Text(0.5, 1.0, 'Input bounds')"
      ]
     },
     "execution_count": 11,
     "metadata": {},
     "output_type": "execute_result"
    },
    {
     "data": {
      "image/png": "[encoded data removed]",
      "text/plain": [
       "<Figure size 640x480 with 1 Axes>"
      ]
     },
     "metadata": {},
     "output_type": "display_data"
    }
   ],
   "source": [
    "import matplotlib.pyplot as plt\n",
    "\n",
    "input_bounds.plot(color=\"blue\", alpha=0.5)\n",
    "plt.title(\"Input bounds\")"
   ]
  },
  {
   "cell_type": "markdown",
   "metadata": {},
   "source": [
    "## Solutions \n",
    "\n",
    "We conclude this section recalling breifly that a solution to our linear dynamics is an absolutely continuous trajectory (a trajectory that is differentiable almost everywhere exept form some discrete points). Namely let $\\zeta_{x}:[t_0,t_1] \\rightarrow \\mathbb{X}$ be a trajectory of the system and $\\zeta_{u}:[t_0,t_1] \\rightarrow \\mathbb{U}$ a given control input respectong the bounds. Then $\\zeta_{x}$ is a solution if\n",
    "\n",
    "\n",
    "$$\n",
    "\\begin{aligned}\n",
    "\\zeta_x(t) &= \\int_{t_0}^{t} f(\\zeta_x(t), \\zeta_u(t)) dt + x_0, \\\\\n",
    "\\dot{\\zeta}_x(t) &= f(\\zeta_x(t), \\zeta_u(t)) \\quad a.e. \\;  t\\in [t_0,t_1],\n",
    "\\end{aligned}\n",
    "$$\n",
    "\n",
    "Caratheorody solutions are considered when dealing with non-smooth analysis of systems for which Lipschitz continuous inputs are not sufficiently rich to analyze stability/invariance properties (e.g. hybrid systems). It is sufficient for you to remember that a solution is a trajectpry that respects the linear dynamics expect for some discerete set of points.\n",
    "\n",
    "## Some References\n",
    "\n",
    "[1] J. Cortes, \"Discontinuous dynamical systems,\" in IEEE Control Systems Magazine, vol. 28, no. 3, pp. 36-73, June 2008, doi: 10.1109/MCS.2008.919306.\n",
    "keywords: {Control systems;Robots;Switches;Temperature control;Adaptive control;Open loop systems;Optimal control;Cooling;Sliding mode control;State-space methods},\n",
    "\n",
    "[2] Ziegler, Günter M. Lectures on polytopes. Vol. 152. Springer Science & Business Media, 2012.\n",
    "\n",
    "\n",
    " \n",
    "\n",
    "\n",
    "\n",
    "\n",
    "\n",
    "\n",
    "\n",
    "\n"
   ]
  }
 ],
 "metadata": {
  "kernelspec": {
   "display_name": ".venv",
   "language": "python",
   "name": "python3"
  },
  "language_info": {
   "codemirror_mode": {
    "name": "ipython",
    "version": 3
   },
   "file_extension": ".py",
   "mimetype": "text/x-python",
   "name": "python",
   "nbconvert_exporter": "python",
   "pygments_lexer": "ipython3",
   "version": "3.10.12"
  }
 },
 "nbformat": 4,
 "nbformat_minor": 2
}
