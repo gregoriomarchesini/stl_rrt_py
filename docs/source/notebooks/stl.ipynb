{
 "cells": [
  {
   "cell_type": "markdown",
   "metadata": {},
   "source": [
    "# Signal temporal Logic ⏲️\n",
    "\n",
    "From the previous notes on [linear systems](simple_linear_systems.ipynb) we have introduced how we treat solutions of linear dynamical systems. It now remains to clarify how can we obtain interesting trajectroies that satisfy such dynamics. In this regard, we can consider a formal language defined on continuous-time signals: Signal Temporal Logic (STL).\n",
    "\n",
    "## Intro\n",
    "Imagine we are given a `spot` robot for Christmas and we want to start playing with it. You quickly get your remote controller and start moving spot left and right and walk a bit forward and then backward.... This becomes quicly boring unless we give something more interesting to do. Willing to suprise your parents that just gifted you this amazing present you start thinking :\n",
    "\n",
    "\"What if I could ask spot to go to the fridge in the next minute and take a beer for me. I want spot to eventually bring the beer to my mum between 3 anf 4 minutes after taking the beer and then come back to me.\"\n",
    "\n",
    "If you find these types of specifications interesting, welcome to the world of [temporal logics](https://en.wikipedia.org/wiki/Temporal_logic), a family of logics to deal with spatially and temporally extended specifications!\n",
    "\n",
    "\n",
    "<img src=\"_static/mobile-agile-robot-spot-makes-3d-map-radioactive-section-uk-nuclear-plant.png\" alt=\"image\" width=\"600\" title=\" credits: https://www.google.com/search?q=spot+robot+in+map&sca_esv=39daea3b50f3b6b8&udm=2&biw=1536&bih=794&sxsrf=AHTn8zpeM7iYvtr3hs-4459NW5Jh_Rmpzw%3A1747374933173&ei=VdMmaNCzCq_7wPAPntSU0Qs&ved=0ahUKEwiQsrnxpqeNAxWvPRAIHR4qJboQ4dUDCBQ&uact=5&oq=spot+robot+in+map&gs_lp=EgNpbWciEXNwb3Qgcm9ib3QgaW4gbWFwSNUMUJ4EWO4JcAF4AJABAJgBXqABywKqAQE3uAEDyAEA-AEBmAIFoALoAcICChAAGIAEGEMYigXCAgYQABgHGB7CAgUQABiABMICBBAAGB7CAgYQABgIGB6YAwCIBgGSBwE1oAewFbIHATS4B-MBwgcFMC4yLjPIBw8&sclient=img#vhid=WzDafbigIfMZHM&vssid=mosaic.\"/>\n",
    "\n",
    "image credits: [Boston dynamics](https://www.google.com/search?q=spot+robot+in+map&sca_esv=39daea3b50f3b6b8&udm=2&biw=1536&bih=794&sxsrf=AHTn8zpeM7iYvtr3hs-4459NW5Jh_Rmpzw%3A1747374933173&ei=VdMmaNCzCq_7wPAPntSU0Qs&ved=0ahUKEwiQsrnxpqeNAxWvPRAIHR4qJboQ4dUDCBQ&uact=5&oq=spot+robot+in+map&gs_lp=EgNpbWciEXNwb3Qgcm9ib3QgaW4gbWFwSNUMUJ4EWO4JcAF4AJABAJgBXqABywKqAQE3uAEDyAEA-AEBmAIFoALoAcICChAAGIAEGEMYigXCAgYQABgHGB7CAgUQABiABMICBBAAGB7CAgYQABgIGB6YAwCIBgGSBwE1oAewFbIHATS4B-MBwgcFMC4yLjPIBw8&sclient=img#vhid=WzDafbigIfMZHM&vssid=mosaic.)\n"
   ]
  },
  {
   "cell_type": "markdown",
   "metadata": {},
   "source": [
    "## Dealing with  STL formulas\n",
    "\n",
    "The main ingreadients to define STL formulas are three \n",
    "\n",
    "### Predicates\n",
    "A set of predicates defining the spatial component of the formula. In the example above we have three predicates. The location of the fridge, mum's location and your location. It is typical to associate predicates with a function that returns a value of true when the predicate is reached  and false otherwise. If we look at the map below each location can be describe a polytope!\n",
    "\n",
    "<img src=\"_static/simple_map.png\" alt=\"image\" width=\"600\" />\n",
    "\n",
    "The is a very formal way to define predicates. First we need a scalar function that is postive where we want the predicate to be true and negeative otherwise. With polytopes this is simple. First recall the linear system\n",
    "$$\n",
    "\n",
    "\\dot{x} = A x + bu\n",
    "$$\n",
    "for which we can define an output $y$ for some matrix $C$ as\n",
    "$$\n",
    "y = Cx\n",
    "$$\n",
    "We will impose temporal specifications on the output of the system. Namely, if we consider a systsme with state given by $x = [p,v]$ where p is the position and v is the velocity, then we could be mainly interested in setting a specification on the position, which is easily selected by choosing the matrix \n",
    "\n",
    "$$\n",
    "C = [I_2 , 0_2] \\quad p = Cx \n",
    "$$\n",
    "\n",
    "where $I_2$ and $0_2$ are just an identity matrix and a zero matrix of dimension $2\\times 2$. We can then define a specific location using a polyhedron of the form $\\{x\\mid ACx \\leq b\\}$ , which is equivalent to $\\{ x \\mid h(x)\\geq 0 \\}$ where \n",
    "$$\n",
    "h(x) = min \\{-a_k^TCx + b_k\\} \n",
    "$$\n",
    "and $a_k$ is the k-th row of the matrix A and $b_k$ is the k-th element of b. A predicate is defined as a boolean encoding that gives the value *True* whena  state is inside the prediacte! Namely, a predicate $\\mu : \\mathbb{R}\\rightarrow \\{\\top,\\bot\\}$ is defined as\n",
    "\n",
    "$$\n",
    "\\mu^h = \\mu(h(\\vec{x})) := \\begin{cases}\n",
    "\\top &\\text{if} \\; h(\\vec{x})\\geq 0 \\\\\n",
    "\\bot &\\text{if} \\; h(\\vec{x})<0 ,\n",
    "\\end{cases}\n",
    "$$\n",
    "\n",
    "\n",
    "### STL grammar\n",
    "The second ingredient that we need is a way to construct temporally extended specifications from a given set of predicates. This is what we can the STL *grammar*. We won't explain here \n",
    "\n",
    "$$\n",
    "\\begin{gathered}\n",
    "    \\varphi ::= G_{[a,b]}\\mu^{h} \\mid  F_{[a,b]}\\mu^{h} \\mid G_{[a,b]}F_{[a',b']}\\mu^{h} \\mid F_{[a,b]}G_{[a',b']} \\mu^{h}, \\\\\n",
    "    \\phi ::= \\varphi\\mid \\varphi_1 \\land \\varphi_2,\n",
    "\\end{gathered}\n",
    "$$\n",
    "\n",
    "Where:\n",
    "\n",
    "- $\\mu^h$ is a predicate (e.g., \"robot is inside goal region A\")\n",
    "- $G_{[a,b]}$ = “**Always** between time $a$ and $b$”\n",
    "- $F_{[a,b]}$ = “**Eventually** between time $a$ and $b$”\n",
    "- $\\land$ is logical **AND**\n",
    "\n",
    "Here are some examples to give you some intuition of the tasks that we can specify.\n",
    "\n",
    "\n",
    "1) \"Stay in goal region A $\\mu^{h}_A$ always between 5s and 10s.\"\"\n",
    "\n",
    "$$\n",
    "G_{[5,10]} \\, \\mu^{h}_A\n",
    "$$\n",
    "\n",
    "2) \"Visit goal region A $\\mu^{h}_A$ eventually between 5s and 10s.\"\"\n",
    "\n",
    "$$\n",
    "F_{[0,8]} \\, \\mu^{h}_A\n",
    "$$\n",
    "\n",
    "\n",
    "3) \"Every 2s in [0,6], the robot must reach goal A $\\mu^{h}_A$ within the next 1–2s.\"\n",
    "\n",
    "$$\n",
    "G_{[0,6]} \\, F_{[1,2]} \\, \\mu^{h}_A\n",
    "$$\n",
    "\n",
    "\n",
    "4) \"At some time in [3,6], the robot enters goal A $\\mu^{h}_A$ and stays there for 1s.\"\n",
    "\n",
    "$$\n",
    "F_{[3,6]} \\, G_{[0,1]} \\, \\mu^{h}_A\n",
    "$$\n",
    "\n",
    "5) \"Eventually reach goal A between 0s and 5s, and always stay in goal B between 6s and 8s.\"\n",
    "\n",
    "$$\n",
    "F_{[0,5]} \\, \\mu^{h}_A \\; \\land \\; G_{[6,8]} \\, \\mu^{h}_B\n",
    "$$\n",
    "\n",
    "\n",
    "### STL semantics\n",
    "\n",
    "The third and last ingredient needed is a a way to decide if a given trajectory satisfies or not a given specification. In this respect there are many different types of way to do so and we won't delve into the details here. For the moment it will be sufficient for the reader to remember that there is a way to encode an STL task into a functional. A functional is a function that take as an input a trajectory (i.e. a functional is a function of a function) and retruns a scalar number. If the number is strictly positive, then the formula is satisfied and it is false if it is strictly negative. If it is exactly zero, well this is technically an undecided case, but we could safely say that in this case the formula is practically satisfied. Such functional takes the name of quantitative sematics and it is recursively defined as \n",
    "\n",
    "$$\n",
    "\\begin{align}\n",
    "\\rho^{\\mu}(\\zeta_x,t)&=h(\\zeta_x(t)),\\\\\n",
    "\\rho^{\\neg \\phi}(\\zeta_x,t)& = -\\rho^{\\phi}(\\zeta_x,t), \\\\\n",
    "\\rho^{F_{[a, b]} \\phi}(\\zeta_x,t)&=\\max _{\\tau \\in t\\oplus [a, b]} \\{\\rho^\\phi\\left(\\zeta_x, \\tau \\right)\\}, \\\\\n",
    "\\rho^{G_{[a, b]} \\phi}(\\zeta_x,t)&= \\min _{\\tau \\in t\\oplus[a, b]} \\{\\rho^\\phi\\left(\\zeta_x, \\tau\\right)\\},\\\\\n",
    "\\rho^{\\phi_1 U_{[a,b]}\\phi_2}(\\zeta_x,t) &= \\max_{\\tau \\in t\\oplus[a,b]} \\\\ \n",
    "& \\hspace{-1.5cm} \\{ \\min\\{\\rho^{\\phi_2}(\\zeta_x, \\tau ), \\min_{\\tau' \\in [t,\\tau]} \\rho^{\\phi_1}(\\zeta_x,\\tau')\\}\\},\\\\\n",
    "\\rho^{\\phi_1 \\wedge \\phi_2}(\\zeta_x,t)& = \\min \\left\\{\\rho^{\\phi_1}(\\zeta_x,t), \\rho^{\\phi_2}(\\zeta_x,t)\\right\\}, \n",
    "\\end{align}\n",
    "$$"
   ]
  },
  {
   "cell_type": "markdown",
   "metadata": {},
   "source": [
    "## Coding with STL formulas\n",
    "\n",
    "To code STL formulas, this can be done simply using the logical syntax of Python. Here is a simple example that creates multiple formulas of type $F_{[a,b]}G_{[a',b']} \\mu^h$"
   ]
  },
  {
   "cell_type": "code",
   "execution_count": null,
   "metadata": {},
   "outputs": [],
   "source": [
    "import numpy as np\n",
    "from stl_tool.stl import GOp, FOp, BoxBound, ContinuousLinearSystem\n",
    "\n",
    "A = np.block([\n",
    "    [np.zeros((3, 3)), np.eye(3)],  # dp/dt = v\n",
    "    [np.zeros((3, 3)), np.zeros((3, 3))]  # dv/dt = a (from input)\n",
    "])\n",
    "\n",
    "B = np.block([\n",
    "    [np.zeros((3, 3))],  # no control in position derivative\n",
    "    [np.eye(3)]          # control enters velocity derivative\n",
    "])\n",
    "\n",
    "system        = ContinuousLinearSystem(A, B, dt=0.1) # create a continuous linear system with the given A and B matrices\n",
    "\n",
    "visit_period             = 400\n",
    "interest_point_1_center  = np.array([-100., 100., 0.])\n",
    "box_predicate_1          =  BoxBound(dims = [0,1,2], size = 70, center = interest_point_1_center) # creates a box over the first three dimension  of the system (so on the positon).\n",
    "visit_time1              = 1000.\n",
    "formula1                 = (FOp(visit_time1,visit_time1+ visit_period/4) >> (GOp(0, visit_period) >> box_predicate_1)) # connect operators with the syntax \"\">>\"\"\n",
    "\n",
    "interest_point_2_center  = np.array([-100., -100., 0.])\n",
    "box_predicate_2          =  BoxBound(dims = [0,1,2], size = 70, center = interest_point_2_center)\n",
    "visit_time2              = 2500.\n",
    "formula2                 = (FOp(visit_time2,visit_time2+ visit_period/4) >> (GOp(0, visit_period) >> box_predicate_2))\n",
    "\n",
    "interest_point_4_center  = np.array([0., 0., 100.])\n",
    "box_predicate_4          =  BoxBound(dims = [0,1,2], size = 70, center = interest_point_4_center)\n",
    "visit_time4              = 3500.\n",
    "formula4                 = (FOp(visit_time4,visit_time4+ visit_period/4) >> (GOp(0, visit_period) >> box_predicate_4))\n",
    "\n",
    "interest_point_3_center  = np.array([100., 100., 0.])\n",
    "box_predicate_3          =  BoxBound(dims = [0,1,2], size = 70, center = interest_point_3_center)\n",
    "visit_time3              = 5000.\n",
    "formula3                 = (FOp(visit_time3,visit_time3+ visit_period/4) >> (GOp(0, visit_period) >> box_predicate_3))\n",
    "\n",
    "\n",
    "formula        = formula1 & formula2 & formula3 & formula4 # create the conjunction\n",
    "                "
   ]
  },
  {
   "cell_type": "markdown",
   "metadata": {},
   "source": [
    "You can visualize your formula as a graph using the following syntax."
   ]
  },
  {
   "cell_type": "code",
   "execution_count": 5,
   "metadata": {},
   "outputs": [
    {
     "data": {
      "image/png": "[encoded data removed]",
      "text/plain": [
       "<Figure size 640x480 with 1 Axes>"
      ]
     },
     "metadata": {},
     "output_type": "display_data"
    }
   ],
   "source": [
    "from   matplotlib import pyplot as plt\n",
    "formula.show_graph()"
   ]
  },
  {
   "cell_type": "markdown",
   "metadata": {},
   "source": [
    "You can also visualize the polytope thst each predicate represents!"
   ]
  },
  {
   "cell_type": "code",
   "execution_count": 7,
   "metadata": {},
   "outputs": [
    {
     "name": "stdout",
     "output_type": "stream",
     "text": [
      "Hyperplane representation of polytope\n",
      "  [[ 1.00000   0.00000   0.00000] |    [135.00000]\n",
      "   [ 0.00000   1.00000   0.00000] |    [135.00000]\n",
      "   [ 0.00000   0.00000   1.00000] |    [ 35.00000]\n",
      "   [-1.00000  -0.00000  -0.00000] |    [-65.00000]\n",
      "   [-0.00000  -1.00000  -0.00000] |    [-65.00000]\n",
      "   [-0.00000  -0.00000  -1.00000] x <= [ 35.00000]\n",
      "\n"
     ]
    }
   ],
   "source": [
    "print(box_predicate_3.polytope)"
   ]
  },
  {
   "cell_type": "markdown",
   "metadata": {},
   "source": []
  },
  {
   "cell_type": "markdown",
   "metadata": {},
   "source": []
  }
 ],
 "metadata": {
  "kernelspec": {
   "display_name": ".venv",
   "language": "python",
   "name": "python3"
  },
  "language_info": {
   "codemirror_mode": {
    "name": "ipython",
    "version": 3
   },
   "file_extension": ".py",
   "mimetype": "text/x-python",
   "name": "python",
   "nbconvert_exporter": "python",
   "pygments_lexer": "ipython3",
   "version": "3.10.12"
  }
 },
 "nbformat": 4,
 "nbformat_minor": 2
}
