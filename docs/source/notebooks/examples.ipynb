{
 "cells": [
  {
   "cell_type": "markdown",
   "metadata": {},
   "source": [
    "# Examples 📖\n",
    "\n",
    "\n",
    "The best way to learn how to use the tool is by looking at some practical examples. We have gathered some of the examples that are currently suppoted through the tool\n",
    "\n",
    "\n"
   ]
  }
 ],
 "metadata": {
  "language_info": {
   "name": "python"
  }
 },
 "nbformat": 4,
 "nbformat_minor": 2
}
